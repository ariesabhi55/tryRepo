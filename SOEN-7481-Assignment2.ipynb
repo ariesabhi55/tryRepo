{
 "cells": [
  {
   "cell_type": "markdown",
   "metadata": {},
   "source": [
    "# Random Fuzzer"
   ]
  },
  {
   "cell_type": "code",
   "execution_count": 178,
   "metadata": {},
   "outputs": [],
   "source": [
    "import random\n",
    "from random import randint\n",
    "import string\n",
    "def randomFuzzer(size=0, outputType='alphanumeric'):\n",
    "    if(size == 0):\n",
    "        return ''.join(random.choice(string.ascii_letters + string.digits) for _ in range(randint(0, 50)))\n",
    "    if(outputType == 'string'):\n",
    "        letters = string.ascii_letters\n",
    "        return ''.join(random.choice(letters) for i in range(size))\n",
    "    elif(outputType == 'number'):\n",
    "        range_start = 10**(size-1)\n",
    "        range_end = (10**size)-1\n",
    "        return randint(range_start, range_end)\n",
    "    elif(outputType == 'alphanumeric'):        \n",
    "        return ''.join(random.choice(string.ascii_letters + string.digits) for _ in range(size))  \n",
    "          \n",
    "        \n",
    "    "
   ]
  },
  {
   "cell_type": "markdown",
   "metadata": {},
   "source": [
    "# Mutation Fuzzer"
   ]
  },
  {
   "cell_type": "code",
   "execution_count": 187,
   "metadata": {},
   "outputs": [],
   "source": [
    "import random\n",
    "def mutationFuzzer(s):    \n",
    "    if(len(s) != 0):\n",
    "        pos = random.randint(0, len(s) - 1)\n",
    "        if(type(s) in ['int', 'long'] ):\n",
    "            random_character = randint(0, 9)\n",
    "        #elif (type(s) == 'str'):\n",
    "        else:\n",
    "            random_character = chr(random.randrange(32, 127))\n",
    "        if bool(random.getrandbits(1)):\n",
    "            return s[:pos] + random_character + s[pos:]\n",
    "        else:\n",
    "            if s == \"\":\n",
    "                return s\n",
    "            pos = random.randint(0, len(s) - 1)\n",
    "            return s[:pos] + s[pos+1:]"
   ]
  },
  {
   "cell_type": "markdown",
   "metadata": {},
   "source": [
    "# Validate Email Function"
   ]
  },
  {
   "cell_type": "code",
   "execution_count": 188,
   "metadata": {},
   "outputs": [],
   "source": [
    "from email_validator import validate_email, EmailNotValidError\n",
    "import sys\n",
    "\n",
    "def ValidateEmail(email):\n",
    "    try:\n",
    "        v = validate_email(email)\n",
    "        domain = v[\"domain\"]       \n",
    "        return str('Domain: '+ domain)\n",
    "    except EmailNotValidError as e:    \n",
    "        return str('Error: '+ str(e))\n"
   ]
  },
  {
   "cell_type": "markdown",
   "metadata": {},
   "source": [
    "# Trace Method  Definition"
   ]
  },
  {
   "cell_type": "code",
   "execution_count": 181,
   "metadata": {},
   "outputs": [],
   "source": [
    "coverage = set()\n",
    "def traceit(frame, event, arg):\n",
    "    if event == \"line\":\n",
    "        global coverage              \n",
    "        function_name = frame.f_code.co_name\n",
    "        lineno = frame.f_lineno\n",
    "        file_name = frame.f_code.co_filename.split('\\\\')[-1]        \n",
    "        coverage.add((file_name,function_name, lineno))\n",
    "    return traceit"
   ]
  },
  {
   "cell_type": "markdown",
   "metadata": {},
   "source": [
    "# Feed fuzzing inputs to Validate Email"
   ]
  },
  {
   "cell_type": "code",
   "execution_count": 189,
   "metadata": {},
   "outputs": [],
   "source": [
    "def MutateFuzzValidateEmail(seed, trials, program):   \n",
    "    fileError = open(\"fuzzMutationEmailError.txt\", \"w\")\n",
    "    filePass = open(\"fuzzMutationEmailPass.txt\", \"w\")\n",
    "    totalCoverage = set()\n",
    "    seedDict = {}\n",
    "    seedDict[seed] = 0\n",
    "    \n",
    "    while(len(seedDict)!=0):\n",
    "        currentSeed = max(seedDict, key=seedDict.get)\n",
    "        print('currentSeed: '+ currentSeed)\n",
    "        for i in range(trials):\n",
    "            mutatedData = mutationFuzzer(currentSeed)\n",
    "            global coverage\n",
    "            coverage = set()        \n",
    "            sys.settrace(traceit)  # Turn on        \n",
    "            result = program(mutatedData)        \n",
    "            sys.settrace(None)  # Turn off\n",
    "            #print(repr(coverage - totalCoverage))\n",
    "            if (bool(coverage - totalCoverage)):\n",
    "                seedDict[mutatedData] = len(coverage - totalCoverage)\n",
    "                totalCoverage = totalCoverage.union(coverage)                                \n",
    "                print('adding'+ repr(seedDict))\n",
    "            if result.startswith('Error'):                        \n",
    "                fileError.write((mutatedData + '=> ' + result + ' Coverage: '+ str(len(coverage)) + '\\n'))\n",
    "            else:                       \n",
    "                filePass.write((mutatedData + ' => ' + result + ' Coverage: '+ str(len(coverage)) + '\\n'))\n",
    "            print(str(len(totalCoverage)))\n",
    "                #seed = mutatedData\n",
    "        del seedDict[currentSeed]\n",
    "        print('Afterdel' + repr(seedDict))\n",
    "    fileError.close()\n",
    "    filePass.close()"
   ]
  },
  {
   "cell_type": "code",
   "execution_count": 190,
   "metadata": {},
   "outputs": [
    {
     "name": "stdout",
     "output_type": "stream",
     "text": [
      "currentSeed: abhi@gmail.com\n",
      "adding{'abhi@gmail.com': 0, 'a1bhi@gmail.com': 549}\n",
      "549\n",
      "adding{'abhi@gmail.com': 0, 'a1bhi@gmail.com': 549, 'abhi@gmailcom': 3}\n",
      "552\n",
      "552\n",
      "Afterdel{'a1bhi@gmail.com': 549, 'abhi@gmailcom': 3}\n",
      "currentSeed: a1bhi@gmail.com\n",
      "552\n",
      "552\n",
      "552\n",
      "Afterdel{'abhi@gmailcom': 3}\n",
      "currentSeed: abhi@gmailcom\n",
      "552\n",
      "552\n",
      "552\n",
      "Afterdel{}\n"
     ]
    }
   ],
   "source": [
    "MutateFuzzValidateEmail(\"abhi@gmail.com\", 3, ValidateEmail)"
   ]
  },
  {
   "cell_type": "code",
   "execution_count": 34,
   "metadata": {},
   "outputs": [
    {
     "name": "stdout",
     "output_type": "stream",
     "text": [
      "795\n",
      "8\n"
     ]
    }
   ],
   "source": [
    "MutateFuzzValidateEmail(\"jajdaadb@gmail.com\", 2)"
   ]
  },
  {
   "cell_type": "code",
   "execution_count": 30,
   "metadata": {},
   "outputs": [
    {
     "data": {
      "text/plain": [
       "981"
      ]
     },
     "execution_count": 30,
     "metadata": {},
     "output_type": "execute_result"
    }
   ],
   "source": [
    "sys.settrace(traceit)  # Turn on        \n",
    "ValidateEmail(\"ajdsja@gmail.com\")        \n",
    "sys.settrace(None)  # Turn off \n",
    "len(coverage)"
   ]
  },
  {
   "cell_type": "code",
   "execution_count": 9,
   "metadata": {},
   "outputs": [
    {
     "ename": "NameError",
     "evalue": "name 'runsPass' is not defined",
     "output_type": "error",
     "traceback": [
      "\u001b[1;31m---------------------------------------------------------------------------\u001b[0m",
      "\u001b[1;31mNameError\u001b[0m                                 Traceback (most recent call last)",
      "\u001b[1;32m<ipython-input-9-61e817e02d10>\u001b[0m in \u001b[0;36m<module>\u001b[1;34m\u001b[0m\n\u001b[1;32m----> 1\u001b[1;33m \u001b[0mrunsPass\u001b[0m\u001b[1;33m\u001b[0m\u001b[1;33m\u001b[0m\u001b[0m\n\u001b[0m",
      "\u001b[1;31mNameError\u001b[0m: name 'runsPass' is not defined"
     ]
    }
   ],
   "source": [
    "runsPass"
   ]
  },
  {
   "cell_type": "code",
   "execution_count": 93,
   "metadata": {},
   "outputs": [],
   "source": [
    "def flipBitsFuzzer(input):\n",
    "    bits = ''.join('{:08b}'.format(b) for b in input.encode('utf8'))\n",
    "    flippedBits = ''.join('1' if x == '0' else '0' for x in bits)\n",
    "    result = bytes(int(b, 2) for b in re.split('(........)', flippedBits) if b).decode('utf8')\n",
    "    print(result)\n",
    "    \n",
    "    \n",
    "    "
   ]
  },
  {
   "cell_type": "code",
   "execution_count": 220,
   "metadata": {},
   "outputs": [
    {
     "data": {
      "text/plain": [
       "'my+addres@google.com'"
      ]
     },
     "execution_count": 220,
     "metadata": {},
     "output_type": "execute_result"
    }
   ],
   "source": [
    "mutationFuzzer(\"my+address@google.com\")"
   ]
  },
  {
   "cell_type": "code",
   "execution_count": 257,
   "metadata": {},
   "outputs": [
    {
     "name": "stdout",
     "output_type": "stream",
     "text": [
      "Error: The domain name goaklemdogle.com does not exist.\n"
     ]
    }
   ],
   "source": [
    "from email_validator import validate_email, EmailNotValidError\n",
    "import sys\n",
    "\n",
    "email = \"my+address@goaklemdogle.com\"\n",
    "\n",
    "try:\n",
    "    v = validate_email(email) # validate and get info\n",
    "    email = v[\"email\"] # replace with normalized form\n",
    "    print(v)\n",
    "except EmailNotValidError as e:\n",
    "    # email is not valid, exception message is human-readable\n",
    "    print('Error: '+str(e))"
   ]
  },
  {
   "cell_type": "code",
   "execution_count": 294,
   "metadata": {},
   "outputs": [],
   "source": [
    "from email_validator import validate_email, EmailNotValidError\n",
    "import sys\n",
    "\n",
    "email = \"my+address@gmail.com\"\n",
    "v = validate_email(email) # validate and get info\n",
    "email = v[\"email\"] # replace with normalized form\n",
    "\n",
    "   \n",
    "    "
   ]
  },
  {
   "cell_type": "code",
   "execution_count": 179,
   "metadata": {},
   "outputs": [],
   "source": [
    "import os\n",
    "import subprocess\n",
    "result = subprocess.run(['python', 'ValidateEmail.py', 'my+address@google.com'],\n",
    "                            stdin=subprocess.DEVNULL,\n",
    "                            stdout=subprocess.PIPE,\n",
    "                            stderr=subprocess.PIPE,\n",
    "                            universal_newlines=True)"
   ]
  },
  {
   "cell_type": "code",
   "execution_count": 200,
   "metadata": {},
   "outputs": [
    {
     "data": {
      "text/plain": [
       "177"
      ]
     },
     "execution_count": 200,
     "metadata": {},
     "output_type": "execute_result"
    }
   ],
   "source": [
    "#Random fuzzer on validate email\n",
    "trials = 2\n",
    "runs = []\n",
    "file = open(\"fuzzRandomEmail.txt\", \"w\")\n",
    "\n",
    "for i in range(trials):\n",
    "    data = randomFuzzer()    \n",
    "    result = subprocess.run(['python', 'ValidateEmail.py', data],\n",
    "                            stdin=subprocess.DEVNULL,\n",
    "                            stdout=subprocess.PIPE,\n",
    "                            stderr=subprocess.PIPE,\n",
    "                            universal_newlines=True)   \n",
    "    \n",
    "    runs.append((data + ':' + result.stdout))\n",
    "file.write(repr(runs))"
   ]
  },
  {
   "cell_type": "code",
   "execution_count": 362,
   "metadata": {},
   "outputs": [],
   "source": [
    "def runProcess():\n",
    "    return subprocess.run(['python', 'ValidateEmail.py', mutatedData],\n",
    "                                stdin=subprocess.DEVNULL,\n",
    "                                stdout=subprocess.PIPE,\n",
    "                                stderr=subprocess.PIPE,\n",
    "                                universal_newlines=True)"
   ]
  },
  {
   "cell_type": "code",
   "execution_count": 371,
   "metadata": {},
   "outputs": [],
   "source": [
    "#Mutation fuzzer on validate email\n",
    "def MutateFuzzValidateEmail(seed, trials):    \n",
    "    runsPass = []\n",
    "    runsFail = []\n",
    "    fileError = open(\"fuzzMutationEmailError.txt\", \"w\")\n",
    "    filePass = open(\"fuzzMutationEmailPass.txt\", \"w\")    \n",
    "\n",
    "    for i in range(trials):\n",
    "        mutatedData = mutationFuzzer(seed)\n",
    "        coverage = set()\n",
    "        sys.settrace(traceit)  # Turn on        \n",
    "        #result = runProcess()\n",
    "        runProcess()\n",
    "        #sys.settrace(None)  # Turn off\n",
    "        print(str(len(coverage)))\n",
    "#         if result.stdout.startswith('Error'):\n",
    "#             runsFail.append((mutatedData + ': ' + result.stdout + 'Coverage: '+ str(len(coverage))))\n",
    "#             print(str(len(coverage)))\n",
    "#             fileError.write((mutatedData + ': ' + result.stdout + 'Coverage: '+ str(len(coverage))))\n",
    "#         else:\n",
    "#             runsPass.append((mutatedData + ': ' + result.stdout + 'Coverage: '+ str(len(coverage))))\n",
    "#             print(str(len(coverage)))\n",
    "#             filePass.write((mutatedData + ': ' + result.stdout + 'Coverage: '+ str(len(coverage))))\n",
    "        seed = mutatedData\n",
    "    fileError.close()\n",
    "    filePass.close()\n",
    "    \n",
    "    "
   ]
  },
  {
   "cell_type": "code",
   "execution_count": 400,
   "metadata": {},
   "outputs": [],
   "source": [
    "#Mutation fuzzer on validate email\n",
    "def MutateFuzzValidateEmail(seed, trials):    \n",
    "    runsPass = []\n",
    "    runsFail = []\n",
    "    fileError = open(\"fuzzMutationEmailError.txt\", \"w\")\n",
    "    filePass = open(\"fuzzMutationEmailPass.txt\", \"w\")    \n",
    "\n",
    "    for i in range(trials):\n",
    "        mutatedData = mutationFuzzer(seed)       \n",
    "        \n",
    "        result = subprocess.run(['python', 'ValidateEmail.py', mutatedData],\n",
    "                                stdin=subprocess.DEVNULL,\n",
    "                                stdout=subprocess.PIPE,\n",
    "                                stderr=subprocess.PIPE,\n",
    "                                universal_newlines=True)        \n",
    "       \n",
    "        if result.stdout.startswith('Error'):\n",
    "            runsFail.append((mutatedData + ': ' + result.stdout))\n",
    "            \n",
    "            fileError.write((mutatedData + ': ' + result.stdout ))\n",
    "        else:\n",
    "            runsPass.append((mutatedData + ': ' + result.stdout ))\n",
    "            \n",
    "            filePass.write((mutatedData + ': ' + result.stdout ))\n",
    "        seed = mutatedData\n",
    "    fileError.close()\n",
    "    filePass.close()\n",
    "    \n",
    "    "
   ]
  },
  {
   "cell_type": "code",
   "execution_count": 372,
   "metadata": {},
   "outputs": [
    {
     "name": "stdout",
     "output_type": "stream",
     "text": [
      "0\n",
      "0\n"
     ]
    }
   ],
   "source": [
    "MutateFuzzValidateEmail(\"my+addresksnjjja@jndfjskd.com\", 2)"
   ]
  },
  {
   "cell_type": "code",
   "execution_count": 394,
   "metadata": {},
   "outputs": [
    {
     "name": "stdout",
     "output_type": "stream",
     "text": [
      "1\n"
     ]
    }
   ],
   "source": [
    "for i in range(1):\n",
    "        \n",
    "        #coverage = set()\n",
    "        sys.settrace(traceit)  # Turn on        \n",
    "        \n",
    "        result = subprocess.run(['python', 'ValidateEmail.py', 'abhidadadadad@gmadaail.com'],\n",
    "                                stdin=subprocess.DEVNULL,\n",
    "                                stdout=subprocess.PIPE,\n",
    "                                stderr=subprocess.PIPE,\n",
    "                                universal_newlines=True)\n",
    "        sys.settrace(None)  # Turn off\n",
    "        print(str(len(coverage3)))"
   ]
  },
  {
   "cell_type": "code",
   "execution_count": 351,
   "metadata": {},
   "outputs": [],
   "source": [
    "coverage = set()\n",
    "sys.settrace(traceit) \n",
    "result = subprocess.run(['python', 'ValidateEmail.py', 'jsbajjsab@jmd ks n'],\n",
    "                                stdin=subprocess.DEVNULL,\n",
    "                                stdout=subprocess.PIPE,\n",
    "                                stderr=subprocess.PIPE,\n",
    "                                universal_newlines=True)\n",
    "sys.settrace(None) "
   ]
  },
  {
   "cell_type": "code",
   "execution_count": 353,
   "metadata": {},
   "outputs": [
    {
     "data": {
      "text/plain": [
       "'400'"
      ]
     },
     "execution_count": 353,
     "metadata": {},
     "output_type": "execute_result"
    }
   ],
   "source": [
    "str(len(coverage))"
   ]
  },
  {
   "cell_type": "code",
   "execution_count": 291,
   "metadata": {},
   "outputs": [],
   "source": [
    "#Mutation fuzzer on validate email\n",
    "trials = 10\n",
    "runsPass = []\n",
    "runsFail = []\n",
    "fileError = open(\"fuzzMutationEmailError.txt\", \"w\")\n",
    "filePass = open(\"fuzzMutationEmailPass.txt\", \"w\")\n",
    "initial = \"my+address@google.com\"\n",
    "\n",
    "for i in range(trials):\n",
    "    mutatedData = mutationFuzzer(initial)    \n",
    "    result = subprocess.run(['python', 'ValidateEmail.py', mutatedData],\n",
    "                            stdin=subprocess.DEVNULL,\n",
    "                            stdout=subprocess.PIPE,\n",
    "                            stderr=subprocess.PIPE,\n",
    "                            universal_newlines=True) \n",
    "    if result.stdout.startswith('Error'):\n",
    "        runsFail.append((mutatedData + ': ' + result.stdout))\n",
    "        fileError.write((mutatedData + ': ' + result.stdout))\n",
    "    else:\n",
    "        runsPass.append((mutatedData + ': ' + result.stdout))\n",
    "        filePass.write((mutatedData + ': ' + result.stdout))\n",
    "    initial = mutatedData\n",
    "fileError.close()\n",
    "filePass.close()\n"
   ]
  },
  {
   "cell_type": "code",
   "execution_count": 298,
   "metadata": {},
   "outputs": [],
   "source": [
    "import sys\n",
    "\n",
    "\n",
    "def trace_calls(frame, event, arg):\n",
    "    if event != 'call':\n",
    "        return\n",
    "    co = frame.f_code\n",
    "    func_name = co.co_name\n",
    "    if func_name == 'write':\n",
    "        # Ignore write() calls from printing\n",
    "        return\n",
    "    func_line_no = frame.f_lineno\n",
    "    func_filename = co.co_filename\n",
    "    if not func_filename.endswith('sys_settrace_call.py'):\n",
    "        # Ignore calls not in this module\n",
    "        return\n",
    "    caller = frame.f_back\n",
    "    caller_line_no = caller.f_lineno\n",
    "    caller_filename = caller.f_code.co_filename\n",
    "    print('* Call to', func_name)\n",
    "    print('*  on line {} of {}'.format(\n",
    "        func_line_no, func_filename))\n",
    "    print('*  from line {} of {}'.format(\n",
    "        caller_line_no, caller_filename))\n",
    "    return"
   ]
  },
  {
   "cell_type": "code",
   "execution_count": 397,
   "metadata": {},
   "outputs": [],
   "source": [
    "#Traceit definition\n",
    "def traceit(frame, event, arg):\n",
    "    if event == \"line\":\n",
    "        global coverage\n",
    "        coverage = set()\n",
    "        #func_filename = frame.f_code.co_filename\n",
    "        function_name = frame.f_code.co_name\n",
    "        lineno = frame.f_lineno\n",
    "        file_name = frame.f_code.co_filename.split('\\\\')[-1]\n",
    "        #coverage.append((func_filename, function_name, lineno))\n",
    "        coverage.add((file_name,function_name, lineno))\n",
    "\n",
    "    return traceit"
   ]
  },
  {
   "cell_type": "code",
   "execution_count": 404,
   "metadata": {},
   "outputs": [
    {
     "data": {
      "text/plain": [
       "339"
      ]
     },
     "execution_count": 404,
     "metadata": {},
     "output_type": "execute_result"
    }
   ],
   "source": [
    "\n",
    "sys.settrace(trace_calls)  # Turn on\n",
    "MutateFuzzValidateEmail(\"my+address@jsndsdsjd.com\",2)\n",
    "sys.settrace(None)\n",
    "coverage\n",
    "len(coverage)"
   ]
  },
  {
   "cell_type": "code",
   "execution_count": null,
   "metadata": {},
   "outputs": [],
   "source": [
    "import sys\n",
    "\n",
    "def execute_and_trace(fun, inp):\n",
    "    global coverage\n",
    "    coverage = []\n",
    "    sys.settrace(traceit)  # Turn on\n",
    "    fun(inp)\n",
    "    sys.settrace(None)    # Turn off\n",
    "\n",
    "inp = \"http://www.concordia.ca\"\n",
    "execute_and_trace(is_valid_url, inp)\n",
    "[cov for cov in coverage]"
   ]
  },
  {
   "cell_type": "code",
   "execution_count": 310,
   "metadata": {},
   "outputs": [
    {
     "data": {
      "text/plain": [
       "'interactiveshell.py'"
      ]
     },
     "execution_count": 310,
     "metadata": {},
     "output_type": "execute_result"
    }
   ],
   "source": [
    "'c:\\\\users\\\\abhishek rajput\\\\appdata\\\\local\\\\programs\\\\python\\\\python37\\\\lib\\\\site-packages\\\\IPython\\\\core\\\\interactiveshell.py'.split('\\\\')[-1]"
   ]
  },
  {
   "cell_type": "code",
   "execution_count": 316,
   "metadata": {},
   "outputs": [
    {
     "data": {
      "text/plain": [
       "[('threading.py', 'wait', 305),\n",
       " ('subprocess.py', '_execute_child', 1187),\n",
       " ('subprocess.py', '__init__', 699),\n",
       " ('contextlib.py', '__init__', 86),\n",
       " ('subprocess.py', '_execute_child', 1178),\n",
       " ('threading.py', '__init__', 792),\n",
       " ('threading.py', 'start', 852),\n",
       " ('subprocess.py', '__init__', 765),\n",
       " ('subprocess.py', '_cleanup', 227),\n",
       " ('subprocess.py', '_execute_child', 1137),\n",
       " ('threading.py', '_wait_for_tstate_lock', 1050),\n",
       " ('subprocess.py', '_remaining_time', 972),\n",
       " ('random.py', 'randrange', 197),\n",
       " ('threading.py', 'wait', 297),\n",
       " ('<ipython-input-204-1c894bfe4246>', 'mutationFuzzer', 5),\n",
       " ('<ipython-input-316-56915bbc3c73>', '<module>', 3),\n",
       " ('random.py', '_randbelow', 234),\n",
       " ('subprocess.py', '_execute_child', 1170),\n",
       " ('threading.py', '__init__', 784),\n",
       " ('subprocess.py', '_get_handles', 1042),\n",
       " ('threading.py', 'join', 1031),\n",
       " ('subprocess.py', '_internal_poll', 1218),\n",
       " ('subprocess.py', '__enter__', 820),\n",
       " ('subprocess.py', '__init__', 674),\n",
       " ('interactiveshell.py', 'run_code', 3317),\n",
       " ('subprocess.py', 'run', 484),\n",
       " ('subprocess.py', '__init__', 137),\n",
       " ('threading.py', 'wait', 289),\n",
       " ('threading.py', '__init__', 233),\n",
       " ('subprocess.py', '_wait', 1234),\n",
       " ('<ipython-input-296-9de94dab4d3b>', 'MutateFuzzValidateEmail', 14),\n",
       " ('threading.py', 'start', 845),\n",
       " ('compilerop.py', 'extra_flags', 150),\n",
       " ('subprocess.py', '__init__', 740),\n",
       " ('subprocess.py', '__exit__', 824),\n",
       " ('subprocess.py', '_execute_child', 1130),\n",
       " ('threading.py', '_newname', 729),\n",
       " ('subprocess.py', '_get_handles', 1050),\n",
       " ('subprocess.py', '_get_devnull', 867),\n",
       " ('threading.py', 'daemon', 1109),\n",
       " ('subprocess.py', '_communicate', 1249),\n",
       " ('subprocess.py', '__init__', 774),\n",
       " ('subprocess.py', '_execute_child', 1163),\n",
       " ('<ipython-input-296-9de94dab4d3b>', 'MutateFuzzValidateEmail', 22),\n",
       " ('subprocess.py', 'run', 474),\n",
       " ('subprocess.py', '_execute_child', 1122),\n",
       " ('traitlets.py', 'get', 528),\n",
       " ('codecs.py', '__init__', 195),\n",
       " ('codeop.py', '__call__', 137),\n",
       " ('subprocess.py', 'list2cmdline', 558),\n",
       " ('hooks.py', '__call__', 151),\n",
       " ('subprocess.py', '_execute_child', 1196),\n",
       " ('subprocess.py', '_get_handles', 1067),\n",
       " ('threading.py', '__init__', 217),\n",
       " ('subprocess.py', '_communicate', 1257),\n",
       " ('threading.py', '__init__', 801),\n",
       " ('subprocess.py', 'Detach', 210),\n",
       " ('subprocess.py', '_execute_child', 1146),\n",
       " ('subprocess.py', 'list2cmdline', 534),\n",
       " ('subprocess.py', '_get_handles', 1034),\n",
       " ('subprocess.py', '_execute_child', 1188),\n",
       " ('subprocess.py', '__init__', 698),\n",
       " ('contextlib.py', '__init__', 85),\n",
       " ('subprocess.py', '_get_handles', 1022),\n",
       " ('_weakrefset.py', 'add', 84),\n",
       " ('subprocess.py', 'wait', 990),\n",
       " ('threading.py', '__init__', 793),\n",
       " ('_weakrefset.py', '_remove', 44),\n",
       " ('subprocess.py', '__init__', 764),\n",
       " ('subprocess.py', '_execute_child', 1138),\n",
       " ('threading.py', '_wait_for_tstate_lock', 1049),\n",
       " ('threading.py', 'wait', 553),\n",
       " ('random.py', 'randrange', 198),\n",
       " ('ipstruct.py', '__getattr__', 151),\n",
       " ('threading.py', 'wait', 296),\n",
       " ('<ipython-input-204-1c894bfe4246>', 'mutationFuzzer', 6),\n",
       " ('subprocess.py', '_communicate', 1266),\n",
       " ('subprocess.py', 'communicate', 956),\n",
       " ('<ipython-input-296-9de94dab4d3b>', 'MutateFuzzValidateEmail', 5),\n",
       " ('threading.py', '__exit__', 244),\n",
       " ('random.py', '_randbelow', 237),\n",
       " ('subprocess.py', '_execute_child', 1171),\n",
       " ('threading.py', '__init__', 785),\n",
       " ('traitlets.py', 'get', 543),\n",
       " ('hooks.py', '__call__', 152),\n",
       " ('interactiveshell.py', 'run_code', 3316),\n",
       " ('subprocess.py', 'run', 485),\n",
       " ('subprocess.py', '_get_handles', 1082),\n",
       " ('subprocess.py', '__init__', 136),\n",
       " ('threading.py', '__init__', 234),\n",
       " ('subprocess.py', '_communicate', 1287),\n",
       " ('<ipython-input-296-9de94dab4d3b>', 'MutateFuzzValidateEmail', 13),\n",
       " ('subprocess.py', '_wait', 1233),\n",
       " ('threading.py', 'start', 846),\n",
       " ('compilerop.py', 'extra_flags', 145),\n",
       " ('subprocess.py', '__exit__', 827),\n",
       " ('random.py', '_randbelow', 229),\n",
       " ('subprocess.py', '_execute_child', 1131),\n",
       " ('threading.py', 'current_thread', 1214),\n",
       " ('subprocess.py', 'list2cmdline', 551),\n",
       " ('subprocess.py', '_get_handles', 1049),\n",
       " ('subprocess.py', '_get_devnull', 866),\n",
       " ('threading.py', 'daemon', 1110),\n",
       " ('subprocess.py', '_get_handles', 1058),\n",
       " ('threading.py', '__init__', 226),\n",
       " ('subprocess.py', '_communicate', 1250),\n",
       " ('subprocess.py', '__init__', 769),\n",
       " ('<ipython-input-296-9de94dab4d3b>', 'MutateFuzzValidateEmail', 21),\n",
       " ('subprocess.py', '__init__', 751),\n",
       " ('subprocess.py', '_execute_child', 1123),\n",
       " ('traitlets.py', 'get', 527),\n",
       " ('threading.py', 'daemon', 1118),\n",
       " ('subprocess.py', '__init__', 701),\n",
       " ('subprocess.py', '_get_handles', 1066),\n",
       " ('subprocess.py', '_communicate', 1258),\n",
       " ('subprocess.py', '__init__', 411),\n",
       " ('subprocess.py', '__init__', 759),\n",
       " ('interactiveshell.py', 'run_code', 3323),\n",
       " ('subprocess.py', 'list2cmdline', 535),\n",
       " ('subprocess.py', '_get_handles', 1033),\n",
       " ('subprocess.py', '_execute_child', 1189),\n",
       " ('subprocess.py', '_get_handles', 1021),\n",
       " ('threading.py', '__init__', 794),\n",
       " ('subprocess.py', '__init__', 767),\n",
       " ('_bootlocale.py', 'getpreferredencoding', 12),\n",
       " ('subprocess.py', '_execute_child', 1139),\n",
       " ('threading.py', '_wait_for_tstate_lock', 1048),\n",
       " ('threading.py', 'wait', 552),\n",
       " ('subprocess.py', '__init__', 676),\n",
       " ('interactiveshell.py', 'run_code', 3315),\n",
       " ('threading.py', 'wait', 303),\n",
       " ('interactiveshell.py', 'user_global_ns', 1274),\n",
       " ('subprocess.py', '_communicate', 1267),\n",
       " ('<ipython-input-296-9de94dab4d3b>', 'MutateFuzzValidateEmail', 4),\n",
       " ('traitlets.py', '__get__', 556),\n",
       " ('random.py', '_randbelow', 236),\n",
       " ('threading.py', '__init__', 786),\n",
       " ('subprocess.py', '_get_handles', 1040),\n",
       " ('subprocess.py', '_get_handles', 1081),\n",
       " ('threading.py', 'wait', 295),\n",
       " ('threading.py', '__init__', 235),\n",
       " ('subprocess.py', '_communicate', 1280),\n",
       " ('<ipython-input-296-9de94dab4d3b>', 'MutateFuzzValidateEmail', 12),\n",
       " ('threading.py', 'start', 847),\n",
       " ('contextlib.py', '__exit__', 121),\n",
       " ('compilerop.py', 'extra_flags', 144),\n",
       " ('subprocess.py', '__init__', 742),\n",
       " ('subprocess.py', '__exit__', 826),\n",
       " ('random.py', '_randbelow', 228),\n",
       " ('subprocess.py', '_execute_child', 1132),\n",
       " ('threading.py', 'current_thread', 1213),\n",
       " ('subprocess.py', '_get_handles', 1048),\n",
       " ('subprocess.py', '_make_inheritable', 1090),\n",
       " ('subprocess.py', 'list2cmdline', 527),\n",
       " ('threading.py', 'wait', 287),\n",
       " ('threading.py', '__init__', 227),\n",
       " ('subprocess.py', '_communicate', 1251),\n",
       " ('subprocess.py', '_communicate', 1288),\n",
       " ('subprocess.py', '_wait', 1224),\n",
       " ('<ipython-input-296-9de94dab4d3b>', 'MutateFuzzValidateEmail', 20),\n",
       " ('threading.py', 'start', 839),\n",
       " ('subprocess.py', '_filter_handle_list', 1101),\n",
       " ('subprocess.py', 'run', 472),\n",
       " ('threading.py', 'is_alive', 1090),\n",
       " ('subprocess.py', 'list2cmdline', 528),\n",
       " ('subprocess.py', '_get_handles', 1024),\n",
       " ('subprocess.py', '__init__', 700),\n",
       " ('threading.py', '__init__', 219),\n",
       " ('subprocess.py', '__init__', 410),\n",
       " ('subprocess.py', 'communicate', 919),\n",
       " ('subprocess.py', '__init__', 758),\n",
       " ('subprocess.py', '_execute_child', 1148),\n",
       " ('threading.py', '_stop', 985),\n",
       " ('subprocess.py', 'Close', 205),\n",
       " ('subprocess.py', '__init__', 735),\n",
       " ('subprocess.py', '_communicate', 1268),\n",
       " ('subprocess.py', '_execute_child', 1190),\n",
       " ('contextlib.py', '__init__', 83),\n",
       " ('subprocess.py', '_get_handles', 1020),\n",
       " ('threading.py', '__init__', 795),\n",
       " ('subprocess.py', '__init__', 766),\n",
       " ('subprocess.py', '_remaining_time', 971),\n",
       " ('subprocess.py', '__init__', 679),\n",
       " ('interactiveshell.py', 'run_code', 3314),\n",
       " ('subprocess.py', 'communicate', 958),\n",
       " ('<ipython-input-296-9de94dab4d3b>', 'MutateFuzzValidateEmail', 3),\n",
       " ('threading.py', '_is_owned', 262),\n",
       " ('subprocess.py', '_execute_child', 1173),\n",
       " ('threading.py', '__init__', 787),\n",
       " ('subprocess.py', 'list2cmdline', 545),\n",
       " ('threading.py', 'join', 1028),\n",
       " ('subprocess.py', '_communicate', 1245),\n",
       " ('threading.py', 'wait', 551),\n",
       " ('subprocess.py', '_get_handles', 1080),\n",
       " ('threading.py', 'wait', 294),\n",
       " ('threading.py', '__init__', 236),\n",
       " ('subprocess.py', '_communicate', 1252),\n",
       " ('subprocess.py', '_communicate', 1281),\n",
       " ('<ipython-input-296-9de94dab4d3b>', 'MutateFuzzValidateEmail', 11),\n",
       " ('contextlib.py', '__exit__', 120),\n",
       " ('subprocess.py', '__init__', 737),\n",
       " ('subprocess.py', '_execute_child', 1133),\n",
       " ('subprocess.py', '_make_inheritable', 1091),\n",
       " ('subprocess.py', '__init__', 695),\n",
       " ('codecs.py', '__init__', 268),\n",
       " ('random.py', 'randint', 222),\n",
       " ('threading.py', '__init__', 228),\n",
       " ('subprocess.py', '_communicate', 1260),\n",
       " ('subprocess.py', '__init__', 413),\n",
       " ('subprocess.py', '__init__', 771),\n",
       " ('subprocess.py', '_communicate', 1289),\n",
       " ('subprocess.py', '_wait', 1231),\n",
       " ('<ipython-input-296-9de94dab4d3b>', 'MutateFuzzValidateEmail', 19),\n",
       " ('contextlib.py', '__enter__', 111),\n",
       " ('subprocess.py', 'run', 473),\n",
       " ('subprocess.py', '_execute_child', 1116),\n",
       " ('subprocess.py', '_execute_child', 1199),\n",
       " ('subprocess.py', '_internal_poll', 1215),\n",
       " ('subprocess.py', '_wait', 1223),\n",
       " ('_weakrefset.py', '_remove', 41),\n",
       " ('subprocess.py', 'run', 465),\n",
       " ('subprocess.py', '_execute_child', 1149),\n",
       " ('subprocess.py', 'Close', 204),\n",
       " ('subprocess.py', '__init__', 734),\n",
       " ('subprocess.py', 'run', 488),\n",
       " ('random.py', 'randrange', 193),\n",
       " ('subprocess.py', '__init__', 133),\n",
       " ('subprocess.py', '_execute_child', 1191),\n",
       " ('contextlib.py', '__exit__', 119),\n",
       " ('random.py', 'randrange', 184),\n",
       " ('contextlib.py', '__init__', 82),\n",
       " ('subprocess.py', 'wait', 989),\n",
       " ('threading.py', '__init__', 796),\n",
       " ('subprocess.py', '__init__', 761),\n",
       " ('_bootlocale.py', 'getpreferredencoding', 14),\n",
       " ('threading.py', '_wait_for_tstate_lock', 1046),\n",
       " ('threading.py', '__init__', 500),\n",
       " ('ipstruct.py', '__getattr__', 146),\n",
       " ('subprocess.py', '_communicate', 1277),\n",
       " ('threading.py', '_acquire_restore', 253),\n",
       " ('<ipython-input-296-9de94dab4d3b>', 'MutateFuzzValidateEmail', 2),\n",
       " ('subprocess.py', '__exit__', 828),\n",
       " ('subprocess.py', '_execute_child', 1174),\n",
       " ('threading.py', '__init__', 788),\n",
       " ('subprocess.py', '__init__', 705),\n",
       " ('subprocess.py', '_communicate', 1246),\n",
       " ('threading.py', 'wait', 550),\n",
       " ('subprocess.py', 'list2cmdline', 521),\n",
       " ('threading.py', 'wait', 293),\n",
       " ('threading.py', '__init__', 237),\n",
       " ('subprocess.py', '_communicate', 1253),\n",
       " ('threading.py', '_release_save', 250),\n",
       " ('subprocess.py', '_communicate', 1282),\n",
       " ('<ipython-input-296-9de94dab4d3b>', 'MutateFuzzValidateEmail', 10),\n",
       " ('subprocess.py', '<setcomp>', 1102),\n",
       " ('compilerop.py', 'extra_flags', 146),\n",
       " ('subprocess.py', '__del__', 854),\n",
       " ('subprocess.py', '_execute_child', 1134),\n",
       " ('subprocess.py', 'list2cmdline', 554),\n",
       " ('subprocess.py', '_get_handles', 1030),\n",
       " ('subprocess.py', '_make_inheritable', 1088),\n",
       " ('subprocess.py', '_make_inheritable', 1087),\n",
       " ('subprocess.py', '_execute_child', 1192),\n",
       " ('subprocess.py', 'communicate', 936),\n",
       " ('threading.py', '__enter__', 241),\n",
       " ('threading.py', '__init__', 229),\n",
       " ('subprocess.py', '__init__', 412),\n",
       " ('subprocess.py', 'communicate', 913),\n",
       " ('subprocess.py', '__init__', 770),\n",
       " ('subprocess.py', '_communicate', 1290),\n",
       " ('subprocess.py', '_wait', 1230),\n",
       " ('<ipython-input-296-9de94dab4d3b>', 'MutateFuzzValidateEmail', 18),\n",
       " ('contextlib.py', '__enter__', 110),\n",
       " ('threading.py', '_stop', 988),\n",
       " ('threading.py', 'is_alive', 1088),\n",
       " ('codeop.py', '__call__', 133),\n",
       " ('subprocess.py', 'list2cmdline', 530),\n",
       " ('subprocess.py', '__init__', 702),\n",
       " ('threading.py', '__init__', 221),\n",
       " ('_weakrefset.py', '_remove', 40),\n",
       " ('subprocess.py', '__init__', 752),\n",
       " ('threading.py', '_stop', 987),\n",
       " ('subprocess.py', 'Close', 203),\n",
       " ('random.py', 'randrange', 194),\n",
       " ('subprocess.py', '_get_handles', 1078),\n",
       " ('subprocess.py', 'list2cmdline', 538),\n",
       " ('subprocess.py', '__init__', 132),\n",
       " ('subprocess.py', '_communicate', 1270),\n",
       " ('interactiveshell.py', 'run_code', 3346),\n",
       " ('<ipython-input-316-56915bbc3c73>', '<module>', 4),\n",
       " ('contextlib.py', '__exit__', 118),\n",
       " ('compilerop.py', 'extra_flags', 141),\n",
       " ('traitlets.py', '__get__', 553),\n",
       " ('random.py', 'randrange', 185),\n",
       " ('subprocess.py', '__exit__', 823),\n",
       " ('random.py', '_randbelow', 233),\n",
       " ('subprocess.py', '__init__', 760),\n",
       " ('threading.py', 'join', 1026),\n",
       " ('subprocess.py', '_execute_child', 1142),\n",
       " ('threading.py', '_wait_for_tstate_lock', 1045),\n",
       " ('threading.py', '__init__', 501),\n",
       " ('subprocess.py', '__init__', 673),\n",
       " ('ipstruct.py', '__getattr__', 147),\n",
       " ('subprocess.py', '_communicate', 1278),\n",
       " ('subprocess.py', '_execute_child', 1200),\n",
       " ('threading.py', 'start', 842),\n",
       " ('subprocess.py', '__exit__', 831),\n",
       " ('subprocess.py', '_execute_child', 1175),\n",
       " ('threading.py', 'wait', 549),\n",
       " ('subprocess.py', 'list2cmdline', 522),\n",
       " ('threading.py', 'wait', 292),\n",
       " ('threading.py', '__init__', 238),\n",
       " ('subprocess.py', '__init__', 773),\n",
       " ('subprocess.py', '_communicate', 1283),\n",
       " ('<ipython-input-296-9de94dab4d3b>', 'MutateFuzzValidateEmail', 9),\n",
       " ('subprocess.py', '<setcomp>', 1101),\n",
       " ('subprocess.py', '__init__', 739),\n",
       " ('threading.py', '__init__', 781),\n",
       " ('subprocess.py', '_make_inheritable', 1089),\n",
       " ('hooks.py', '__call__', 148),\n",
       " ('subprocess.py', 'communicate', 939),\n",
       " ('subprocess.py', '_execute_child', 1193),\n",
       " ('threading.py', 'daemon', 1114),\n",
       " ('interactiveshell.py', 'run_code', 3329),\n",
       " ('threading.py', '__init__', 230),\n",
       " ('subprocess.py', '_wait', 1229),\n",
       " ('_weakrefset.py', '_remove', 39),\n",
       " ('subprocess.py', '__init__', 670),\n",
       " ('subprocess.py', '__init__', 747),\n",
       " ('subprocess.py', '__del__', 861),\n",
       " ('threading.py', 'is_alive', 1089),\n",
       " ('subprocess.py', 'list2cmdline', 531),\n",
       " ('subprocess.py', '_execute_child', 1118),\n",
       " ('subprocess.py', '__init__', 697),\n",
       " ('contextlib.py', '__enter__', 112),\n",
       " ('threading.py', '__init__', 222),\n",
       " ('subprocess.py', 'communicate', 920),\n",
       " ('subprocess.py', '_execute_child', 1176),\n",
       " ('subprocess.py', 'wait', 987),\n",
       " ('interactiveshell.py', '<lambda>', 117),\n",
       " ('subprocess.py', '_execute_child', 1151),\n",
       " ('threading.py', '_stop', 986),\n",
       " ('subprocess.py', '__init__', 728),\n",
       " ('subprocess.py', '__init__', 135),\n",
       " ('<ipython-input-204-1c894bfe4246>', 'mutationFuzzer', 3),\n",
       " ('subprocess.py', '_communicate', 1271),\n",
       " ('interactiveshell.py', 'run_code', 3345),\n",
       " ('contextlib.py', '__exit__', 117),\n",
       " ('subprocess.py', '_get_handles', 1017),\n",
       " ('random.py', '_randbelow', 232),\n",
       " ('subprocess.py', '__init__', 763),\n",
       " ('hooks.py', 'pre_run_code_hook', 209),\n",
       " ('subprocess.py', '_execute_child', 1143),\n",
       " ('subprocess.py', '__init__', 672),\n",
       " ('interactiveshell.py', 'run_code', 3319),\n",
       " ('threading.py', 'wait', 291),\n",
       " ('subprocess.py', '_communicate', 1279),\n",
       " ('subprocess.py', '_execute_child', 1201),\n",
       " ('subprocess.py', '_communicate', 1284),\n",
       " ('cp1252.py', 'encode', 19),\n",
       " ('contextlib.py', '__init__', 88),\n",
       " ('subprocess.py', 'list2cmdline', 548),\n",
       " ('subprocess.py', '__init__', 680),\n",
       " ('subprocess.py', 'list2cmdline', 523),\n",
       " ('subprocess.py', '_communicate', 1255),\n",
       " ('subprocess.py', '__init__', 772),\n",
       " ('subprocess.py', '_execute_child', 1161),\n",
       " ('<ipython-input-296-9de94dab4d3b>', 'MutateFuzzValidateEmail', 8),\n",
       " ('subprocess.py', '_communicate', 1292),\n",
       " ('subprocess.py', '__init__', 738),\n",
       " ('threading.py', '__init__', 782),\n",
       " ('interactiveshell.py', 'run_code', 3310),\n",
       " ('interactiveshell.py', 'compare', 3231),\n",
       " ('hooks.py', '__call__', 149),\n",
       " ('subprocess.py', 'communicate', 938),\n",
       " ('threading.py', '__init__', 231),\n",
       " ('subprocess.py', '_execute_child', 1153),\n",
       " ('subprocess.py', '__del__', 860),\n",
       " ('subprocess.py', 'Detach', 208),\n",
       " ('threading.py', '_stop', 989),\n",
       " ('codeop.py', '__call__', 135),\n",
       " ('threading.py', 'wait', 306),\n",
       " ('subprocess.py', '_execute_child', 1119),\n",
       " ('threading.py', 'is_set', 509),\n",
       " ('subprocess.py', '_execute_child', 1186),\n",
       " ('subprocess.py', '__init__', 696),\n",
       " ('contextlib.py', '__init__', 87),\n",
       " ('_weakrefset.py', 'add', 82),\n",
       " ('subprocess.py', '_execute_child', 1177),\n",
       " ('contextlib.py', 'helper', 239),\n",
       " ('threading.py', 'join', 1032),\n",
       " ('subprocess.py', 'communicate', 960),\n",
       " ('subprocess.py', '_execute_child', 1136),\n",
       " ('interactiveshell.py', 'run_code', 3326),\n",
       " ('random.py', 'randrange', 196),\n",
       " ('subprocess.py', '__init__', 134),\n",
       " ('subprocess.py', 'poll', 966),\n",
       " ('<ipython-input-204-1c894bfe4246>', 'mutationFuzzer', 4),\n",
       " ('<ipython-input-296-9de94dab4d3b>', 'MutateFuzzValidateEmail', 7),\n",
       " ('random.py', 'randrange', 187),\n",
       " ('random.py', '_randbelow', 235),\n",
       " ('threading.py', '__init__', 799),\n",
       " ('subprocess.py', '__init__', 762),\n",
       " ('subprocess.py', 'run', 460),\n",
       " ('threading.py', 'join', 1024),\n",
       " ('interactiveshell.py', 'run_code', 3318),\n",
       " ('threading.py', 'wait', 290),\n",
       " ('threading.py', '__init__', 232),\n",
       " ('subprocess.py', '__exit__', 848),\n",
       " ('subprocess.py', '_communicate', 1272),\n",
       " ('subprocess.py', '_execute_child', 1202),\n",
       " ('threading.py', 'start', 844),\n",
       " ('threading.py', '_is_owned', 258),\n",
       " ('subprocess.py', '__exit__', 825),\n",
       " ('subprocess.py', '_execute_child', 1129),\n",
       " ('threading.py', '__init__', 791),\n",
       " ('subprocess.py', 'communicate', 933),\n",
       " ('subprocess.py', 'list2cmdline', 524),\n",
       " ('subprocess.py', '_get_handles', 1060),\n",
       " ('subprocess.py', '_communicate', 1248),\n",
       " ('subprocess.py', '__init__', 775),\n",
       " ('subprocess.py', '_wait', 1227),\n",
       " ('subprocess.py', '__init__', 749),\n",
       " ('subprocess.py', '__del__', 851),\n",
       " ('threading.py', '__init__', 783),\n",
       " ('codecs.py', '__init__', 194),\n",
       " ('subprocess.py', '_get_devnull', 868),\n",
       " ('threading.py', 'daemon', 1116),\n",
       " ('subprocess.py', '_get_handles', 1068),\n",
       " ('subprocess.py', '_communicate', 1256),\n",
       " ('subprocess.py', '_execute_child', 1154),\n",
       " ('subprocess.py', '__init__', 664),\n",
       " ('subprocess.py', 'Detach', 209),\n",
       " ('codeop.py', '__call__', 134)]"
      ]
     },
     "execution_count": 316,
     "metadata": {},
     "output_type": "execute_result"
    }
   ],
   "source": [
    "coverage = set()\n",
    "sys.settrace(traceit)  # Turn on\n",
    "MutateFuzzValidateEmail(\"my+address@google.com\",1)\n",
    "sys.settrace(None)\n",
    "[cov for cov in coverage]"
   ]
  },
  {
   "cell_type": "code",
   "execution_count": 317,
   "metadata": {},
   "outputs": [
    {
     "data": {
      "text/plain": [
       "434"
      ]
     },
     "execution_count": 317,
     "metadata": {},
     "output_type": "execute_result"
    }
   ],
   "source": [
    "len(coverage)"
   ]
  },
  {
   "cell_type": "code",
   "execution_count": 99,
   "metadata": {},
   "outputs": [
    {
     "data": {
      "text/plain": [
       "'0110100001101001'"
      ]
     },
     "execution_count": 99,
     "metadata": {},
     "output_type": "execute_result"
    }
   ],
   "source": [
    "''.join('{:08b}'.format(b) for b in 'hi'.encode('utf8'))"
   ]
  },
  {
   "cell_type": "code",
   "execution_count": 55,
   "metadata": {},
   "outputs": [
    {
     "data": {
      "text/plain": [
       "'11010001101001'"
      ]
     },
     "execution_count": 55,
     "metadata": {},
     "output_type": "execute_result"
    }
   ],
   "source": [
    "''.join(format(ord(x), 'b') for x in 'hi')"
   ]
  },
  {
   "cell_type": "code",
   "execution_count": 58,
   "metadata": {},
   "outputs": [
    {
     "data": {
      "text/plain": [
       "'00101110010110'"
      ]
     },
     "execution_count": 58,
     "metadata": {},
     "output_type": "execute_result"
    }
   ],
   "source": [
    "bits = ''.join(format(ord(x), 'b') for x in 'hi')\n",
    "''.join('1' if x == '0' else '0' for x in bits)"
   ]
  },
  {
   "cell_type": "code",
   "execution_count": 106,
   "metadata": {},
   "outputs": [
    {
     "data": {
      "text/plain": [
       "'1001011110010110'"
      ]
     },
     "execution_count": 106,
     "metadata": {},
     "output_type": "execute_result"
    }
   ],
   "source": [
    "''.join('1' if x == '0' else '0' for x in '0110100001101001')"
   ]
  },
  {
   "cell_type": "code",
   "execution_count": 65,
   "metadata": {},
   "outputs": [
    {
     "ename": "UnicodeDecodeError",
     "evalue": "'utf-8' codec can't decode byte 0x97 in position 0: invalid start byte",
     "output_type": "error",
     "traceback": [
      "\u001b[1;31m---------------------------------------------------------------------------\u001b[0m",
      "\u001b[1;31mUnicodeDecodeError\u001b[0m                        Traceback (most recent call last)",
      "\u001b[1;32m<ipython-input-65-5adb8ce81098>\u001b[0m in \u001b[0;36m<module>\u001b[1;34m\u001b[0m\n\u001b[0;32m      2\u001b[0m \u001b[0mflippedBits\u001b[0m \u001b[1;33m=\u001b[0m \u001b[1;34m''\u001b[0m\u001b[1;33m.\u001b[0m\u001b[0mjoin\u001b[0m\u001b[1;33m(\u001b[0m\u001b[1;34m'1'\u001b[0m \u001b[1;32mif\u001b[0m \u001b[0mx\u001b[0m \u001b[1;33m==\u001b[0m \u001b[1;34m'0'\u001b[0m \u001b[1;32melse\u001b[0m \u001b[1;34m'0'\u001b[0m \u001b[1;32mfor\u001b[0m \u001b[0mx\u001b[0m \u001b[1;32min\u001b[0m \u001b[0mbits\u001b[0m\u001b[1;33m)\u001b[0m\u001b[1;33m\u001b[0m\u001b[1;33m\u001b[0m\u001b[0m\n\u001b[0;32m      3\u001b[0m \u001b[0mn\u001b[0m \u001b[1;33m=\u001b[0m \u001b[0mint\u001b[0m\u001b[1;33m(\u001b[0m\u001b[0mflippedBits\u001b[0m\u001b[1;33m,\u001b[0m \u001b[1;36m2\u001b[0m\u001b[1;33m)\u001b[0m\u001b[1;33m\u001b[0m\u001b[1;33m\u001b[0m\u001b[0m\n\u001b[1;32m----> 4\u001b[1;33m \u001b[0mn\u001b[0m\u001b[1;33m.\u001b[0m\u001b[0mto_bytes\u001b[0m\u001b[1;33m(\u001b[0m\u001b[1;33m(\u001b[0m\u001b[0mn\u001b[0m\u001b[1;33m.\u001b[0m\u001b[0mbit_length\u001b[0m\u001b[1;33m(\u001b[0m\u001b[1;33m)\u001b[0m \u001b[1;33m+\u001b[0m \u001b[1;36m7\u001b[0m\u001b[1;33m)\u001b[0m \u001b[1;33m//\u001b[0m \u001b[1;36m8\u001b[0m\u001b[1;33m,\u001b[0m \u001b[1;34m'big'\u001b[0m\u001b[1;33m)\u001b[0m\u001b[1;33m.\u001b[0m\u001b[0mdecode\u001b[0m\u001b[1;33m(\u001b[0m\u001b[1;33m)\u001b[0m\u001b[1;33m\u001b[0m\u001b[1;33m\u001b[0m\u001b[0m\n\u001b[0m",
      "\u001b[1;31mUnicodeDecodeError\u001b[0m: 'utf-8' codec can't decode byte 0x97 in position 0: invalid start byte"
     ]
    }
   ],
   "source": [
    "bits = ''.join('{:08b}'.format(b) for b in 'hi'.encode('utf8'))\n",
    "flippedBits = ''.join('1' if x == '0' else '0' for x in bits)\n",
    "n = int(flippedBits, 2)\n",
    "n.to_bytes((n.bit_length() + 7) // 8, 'big').decode()"
   ]
  },
  {
   "cell_type": "code",
   "execution_count": 63,
   "metadata": {},
   "outputs": [
    {
     "data": {
      "text/plain": [
       "'11010001101001'"
      ]
     },
     "execution_count": 63,
     "metadata": {},
     "output_type": "execute_result"
    }
   ],
   "source": [
    "''.join(format(ord(x), 'b') for x in 'hi')"
   ]
  },
  {
   "cell_type": "code",
   "execution_count": 73,
   "metadata": {},
   "outputs": [],
   "source": [
    "flippedBits = ''.join('1' if x == '0' else '0' for x in '11010001101001')"
   ]
  },
  {
   "cell_type": "code",
   "execution_count": 69,
   "metadata": {},
   "outputs": [
    {
     "ename": "UnicodeDecodeError",
     "evalue": "'utf-8' codec can't decode byte 0x96 in position 1: invalid start byte",
     "output_type": "error",
     "traceback": [
      "\u001b[1;31m---------------------------------------------------------------------------\u001b[0m",
      "\u001b[1;31mUnicodeDecodeError\u001b[0m                        Traceback (most recent call last)",
      "\u001b[1;32m<ipython-input-69-f6ebfd7547a1>\u001b[0m in \u001b[0;36m<module>\u001b[1;34m\u001b[0m\n\u001b[0;32m      1\u001b[0m \u001b[0mn\u001b[0m \u001b[1;33m=\u001b[0m \u001b[0mint\u001b[0m\u001b[1;33m(\u001b[0m\u001b[0mflippedBits\u001b[0m\u001b[1;33m,\u001b[0m \u001b[1;36m2\u001b[0m\u001b[1;33m)\u001b[0m\u001b[1;33m\u001b[0m\u001b[1;33m\u001b[0m\u001b[0m\n\u001b[1;32m----> 2\u001b[1;33m \u001b[0mn\u001b[0m\u001b[1;33m.\u001b[0m\u001b[0mto_bytes\u001b[0m\u001b[1;33m(\u001b[0m\u001b[1;33m(\u001b[0m\u001b[0mn\u001b[0m\u001b[1;33m.\u001b[0m\u001b[0mbit_length\u001b[0m\u001b[1;33m(\u001b[0m\u001b[1;33m)\u001b[0m \u001b[1;33m+\u001b[0m \u001b[1;36m7\u001b[0m\u001b[1;33m)\u001b[0m \u001b[1;33m//\u001b[0m \u001b[1;36m8\u001b[0m\u001b[1;33m,\u001b[0m \u001b[1;34m'big'\u001b[0m\u001b[1;33m)\u001b[0m\u001b[1;33m.\u001b[0m\u001b[0mdecode\u001b[0m\u001b[1;33m(\u001b[0m\u001b[1;33m)\u001b[0m\u001b[1;33m\u001b[0m\u001b[1;33m\u001b[0m\u001b[0m\n\u001b[0m",
      "\u001b[1;31mUnicodeDecodeError\u001b[0m: 'utf-8' codec can't decode byte 0x96 in position 1: invalid start byte"
     ]
    }
   ],
   "source": [
    "n = int(flippedBits, 2) \n",
    "n.to_bytes((n.bit_length() + 7) // 8, 'big').decode()"
   ]
  },
  {
   "cell_type": "code",
   "execution_count": 113,
   "metadata": {},
   "outputs": [
    {
     "ename": "UnicodeDecodeError",
     "evalue": "'utf-8' codec can't decode byte 0xf2 in position 1: invalid continuation byte",
     "output_type": "error",
     "traceback": [
      "\u001b[1;31m---------------------------------------------------------------------------\u001b[0m",
      "\u001b[1;31mUnicodeDecodeError\u001b[0m                        Traceback (most recent call last)",
      "\u001b[1;32m<ipython-input-113-37d1a514ef82>\u001b[0m in \u001b[0;36m<module>\u001b[1;34m\u001b[0m\n\u001b[0;32m      1\u001b[0m \u001b[1;32mimport\u001b[0m \u001b[0mre\u001b[0m\u001b[1;33m\u001b[0m\u001b[1;33m\u001b[0m\u001b[0m\n\u001b[1;32m----> 2\u001b[1;33m \u001b[0mbytes\u001b[0m\u001b[1;33m(\u001b[0m\u001b[0mint\u001b[0m\u001b[1;33m(\u001b[0m\u001b[0mb\u001b[0m\u001b[1;33m,\u001b[0m \u001b[1;36m2\u001b[0m\u001b[1;33m)\u001b[0m \u001b[1;32mfor\u001b[0m \u001b[0mb\u001b[0m \u001b[1;32min\u001b[0m \u001b[0mre\u001b[0m\u001b[1;33m.\u001b[0m\u001b[0msplit\u001b[0m\u001b[1;33m(\u001b[0m\u001b[1;34m'(........)'\u001b[0m\u001b[1;33m,\u001b[0m \u001b[1;34m'0001001011110010110101'\u001b[0m\u001b[1;33m)\u001b[0m \u001b[1;32mif\u001b[0m \u001b[0mb\u001b[0m\u001b[1;33m)\u001b[0m\u001b[1;33m.\u001b[0m\u001b[0mdecode\u001b[0m\u001b[1;33m(\u001b[0m\u001b[1;34m'utf8'\u001b[0m\u001b[1;33m)\u001b[0m\u001b[1;33m\u001b[0m\u001b[1;33m\u001b[0m\u001b[0m\n\u001b[0m",
      "\u001b[1;31mUnicodeDecodeError\u001b[0m: 'utf-8' codec can't decode byte 0xf2 in position 1: invalid continuation byte"
     ]
    }
   ],
   "source": [
    "import re\n",
    "bytes(int(b, 2) for b in re.split('(........)', '0001001011110010110101') if b).decode('utf8')"
   ]
  },
  {
   "cell_type": "code",
   "execution_count": 70,
   "metadata": {},
   "outputs": [
    {
     "name": "stdout",
     "output_type": "stream",
     "text": [
      "0110100001101001\n"
     ]
    }
   ],
   "source": [
    "bits = ''.join('{:08b}'.format(b) for b in 'hi'.encode('utf8'))\n",
    "print(bits)"
   ]
  },
  {
   "cell_type": "code",
   "execution_count": 66,
   "metadata": {},
   "outputs": [
    {
     "data": {
      "text/plain": [
       "26729"
      ]
     },
     "execution_count": 66,
     "metadata": {},
     "output_type": "execute_result"
    }
   ],
   "source": [
    "bits = '0110100001101001'\n",
    "int(bits, 2)\n"
   ]
  },
  {
   "cell_type": "code",
   "execution_count": 18,
   "metadata": {},
   "outputs": [
    {
     "ename": "TypeError",
     "evalue": "bad operand type for unary ~: 'str'",
     "output_type": "error",
     "traceback": [
      "\u001b[1;31m---------------------------------------------------------------------------\u001b[0m",
      "\u001b[1;31mTypeError\u001b[0m                                 Traceback (most recent call last)",
      "\u001b[1;32m<ipython-input-18-f7b2eec1bcab>\u001b[0m in \u001b[0;36m<module>\u001b[1;34m\u001b[0m\n\u001b[1;32m----> 1\u001b[1;33m \u001b[1;33m~\u001b[0m\u001b[1;33m(\u001b[0m\u001b[0mformat\u001b[0m\u001b[1;33m(\u001b[0m\u001b[0mord\u001b[0m\u001b[1;33m(\u001b[0m\u001b[1;34m'h'\u001b[0m\u001b[1;33m)\u001b[0m\u001b[1;33m,\u001b[0m \u001b[1;34m'b'\u001b[0m\u001b[1;33m)\u001b[0m\u001b[1;33m)\u001b[0m \u001b[1;33m&\u001b[0m \u001b[1;36m0xffffffff\u001b[0m\u001b[1;33m\u001b[0m\u001b[1;33m\u001b[0m\u001b[0m\n\u001b[0m",
      "\u001b[1;31mTypeError\u001b[0m: bad operand type for unary ~: 'str'"
     ]
    }
   ],
   "source": [
    "\n",
    "(format(ord('h'), 'b')) & 0xffffffff"
   ]
  },
  {
   "cell_type": "code",
   "execution_count": 15,
   "metadata": {},
   "outputs": [
    {
     "data": {
      "text/plain": [
       "b'hi'"
      ]
     },
     "execution_count": 15,
     "metadata": {},
     "output_type": "execute_result"
    }
   ],
   "source": [
    "'hi'.encode('ascii')"
   ]
  },
  {
   "cell_type": "code",
   "execution_count": 1,
   "metadata": {},
   "outputs": [
    {
     "ename": "NameError",
     "evalue": "name 'tryyahshasas' is not defined",
     "output_type": "error",
     "traceback": [
      "\u001b[1;31m---------------------------------------------------------------------------\u001b[0m",
      "\u001b[1;31mNameError\u001b[0m                                 Traceback (most recent call last)",
      "\u001b[1;32m<ipython-input-1-f2a7dec7724f>\u001b[0m in \u001b[0;36m<module>\u001b[1;34m\u001b[0m\n\u001b[1;32m----> 1\u001b[1;33m \u001b[0mtryyahshasas\u001b[0m\u001b[1;33m\u001b[0m\u001b[1;33m\u001b[0m\u001b[0m\n\u001b[0m",
      "\u001b[1;31mNameError\u001b[0m: name 'tryyahshasas' is not defined"
     ]
    }
   ],
   "source": [
    "tryyahshasas"
   ]
  },
  {
   "cell_type": "code",
   "execution_count": 2,
   "metadata": {},
   "outputs": [
    {
     "ename": "NameError",
     "evalue": "name 'kdkadkada' is not defined",
     "output_type": "error",
     "traceback": [
      "\u001b[1;31m---------------------------------------------------------------------------\u001b[0m",
      "\u001b[1;31mNameError\u001b[0m                                 Traceback (most recent call last)",
      "\u001b[1;32m<ipython-input-2-8d792f083302>\u001b[0m in \u001b[0;36m<module>\u001b[1;34m\u001b[0m\n\u001b[1;32m----> 1\u001b[1;33m \u001b[0mkdkadkada\u001b[0m\u001b[1;33m\u001b[0m\u001b[1;33m\u001b[0m\u001b[0m\n\u001b[0m",
      "\u001b[1;31mNameError\u001b[0m: name 'kdkadkada' is not defined"
     ]
    }
   ],
   "source": [
    "kdkadkada\n"
   ]
  }
 ],
 "metadata": {
  "kernelspec": {
   "display_name": "Python 3",
   "language": "python",
   "name": "python3"
  },
  "language_info": {
   "codemirror_mode": {
    "name": "ipython",
    "version": 3
   },
   "file_extension": ".py",
   "mimetype": "text/x-python",
   "name": "python",
   "nbconvert_exporter": "python",
   "pygments_lexer": "ipython3",
   "version": "3.7.2"
  }
 },
 "nbformat": 4,
 "nbformat_minor": 2
}
